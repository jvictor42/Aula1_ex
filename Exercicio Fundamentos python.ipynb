{
 "cells": [
  {
   "cell_type": "code",
   "execution_count": 1,
   "metadata": {},
   "outputs": [
    {
     "name": "stdout",
     "output_type": "stream",
     "text": [
      "[1, 2, 3, 4, 5, 6, 7, 8, 9, 10]\n"
     ]
    }
   ],
   "source": [
    "l1 = [1,2,3,4,5,6,7,8,9,10]\n",
    "print(l1)"
   ]
  },
  {
   "cell_type": "code",
   "execution_count": 2,
   "metadata": {},
   "outputs": [
    {
     "name": "stdout",
     "output_type": "stream",
     "text": [
      "[[2, 3], 'element2', 2, 9.0, 'element5']\n"
     ]
    }
   ],
   "source": [
    "l2 = [[2,3],\"element2\",2,9.0,\"element5\"]\n",
    "print(l2)"
   ]
  },
  {
   "cell_type": "code",
   "execution_count": 3,
   "metadata": {},
   "outputs": [
    {
     "name": "stdout",
     "output_type": "stream",
     "text": [
      "Hot Dog\n"
     ]
    }
   ],
   "source": [
    "st1 , st2 = 'Hot' , 'Dog'\n",
    "st3 = st1 + ' ' + st2\n",
    "print(st3)"
   ]
  },
  {
   "cell_type": "code",
   "execution_count": 4,
   "metadata": {},
   "outputs": [
    {
     "data": {
      "text/plain": [
       "3"
      ]
     },
     "execution_count": 4,
     "metadata": {},
     "output_type": "execute_result"
    }
   ],
   "source": [
    "tpl1 = (1,2,2,3,4,4,4,5)\n",
    "tpl1.count(4)"
   ]
  },
  {
   "cell_type": "code",
   "execution_count": 5,
   "metadata": {},
   "outputs": [
    {
     "name": "stdout",
     "output_type": "stream",
     "text": [
      "{}\n"
     ]
    }
   ],
   "source": [
    "dict1 = {}\n",
    "print(dict1)"
   ]
  },
  {
   "cell_type": "code",
   "execution_count": 6,
   "metadata": {},
   "outputs": [
    {
     "name": "stdout",
     "output_type": "stream",
     "text": [
      "{'key0': 'Blue', 'key1': 'Green', 'key2': 'Yellow'}\n"
     ]
    }
   ],
   "source": [
    "dict1 = {'key0':'Blue','key1':'Green','key2':'Yellow'}\n",
    "print(dict1)"
   ]
  },
  {
   "cell_type": "code",
   "execution_count": 7,
   "metadata": {},
   "outputs": [
    {
     "name": "stdout",
     "output_type": "stream",
     "text": [
      "{'key0': 'Blue', 'key1': 'Green', 'key2': 'Yellow', 'key3': 'White'}\n"
     ]
    }
   ],
   "source": [
    "dict1['key3']= 'White'\n",
    "print(dict1)"
   ]
  },
  {
   "cell_type": "code",
   "execution_count": 8,
   "metadata": {},
   "outputs": [
    {
     "name": "stdout",
     "output_type": "stream",
     "text": [
      "{'key0': 'Blue', 'key1': 'Green', 'key2': [2, 3]}\n"
     ]
    }
   ],
   "source": [
    "del dict1['key3']\n",
    "dict1['key2'] = l2[0] \n",
    "print(dict1)\n",
    "\n"
   ]
  },
  {
   "cell_type": "code",
   "execution_count": 9,
   "metadata": {},
   "outputs": [
    {
     "name": "stdout",
     "output_type": "stream",
     "text": [
      "Cientista de Dados\n"
     ]
    }
   ],
   "source": [
    "frase = 'Cientista de Dados é o profissional mais forte do século XXI'\n",
    "print(frase[0:18])"
   ]
  },
  {
   "cell_type": "code",
   "execution_count": 10,
   "metadata": {},
   "outputs": [
    {
     "name": "stdout",
     "output_type": "stream",
     "text": [
      "[3, 4, 5]\n"
     ]
    }
   ],
   "source": [
    "#Extra\n",
    "print(l1[2:5])"
   ]
  },
  {
   "cell_type": "code",
   "execution_count": 11,
   "metadata": {},
   "outputs": [],
   "source": [
    "import statistics as stat\n",
    "import random"
   ]
  },
  {
   "cell_type": "code",
   "execution_count": 13,
   "metadata": {},
   "outputs": [
    {
     "data": {
      "text/plain": [
       "['Decimal',\n",
       " 'Fraction',\n",
       " 'StatisticsError',\n",
       " '__all__',\n",
       " '__builtins__',\n",
       " '__cached__',\n",
       " '__doc__',\n",
       " '__file__',\n",
       " '__loader__',\n",
       " '__name__',\n",
       " '__package__',\n",
       " '__spec__',\n",
       " '_coerce',\n",
       " '_convert',\n",
       " '_counts',\n",
       " '_exact_ratio',\n",
       " '_fail_neg',\n",
       " '_find_lteq',\n",
       " '_find_rteq',\n",
       " '_isfinite',\n",
       " '_ss',\n",
       " '_sum',\n",
       " 'bisect_left',\n",
       " 'bisect_right',\n",
       " 'collections',\n",
       " 'groupby',\n",
       " 'harmonic_mean',\n",
       " 'math',\n",
       " 'mean',\n",
       " 'median',\n",
       " 'median_grouped',\n",
       " 'median_high',\n",
       " 'median_low',\n",
       " 'mode',\n",
       " 'numbers',\n",
       " 'pstdev',\n",
       " 'pvariance',\n",
       " 'stdev',\n",
       " 'variance']"
      ]
     },
     "execution_count": 13,
     "metadata": {},
     "output_type": "execute_result"
    }
   ],
   "source": [
    "dir(stat)"
   ]
  },
  {
   "cell_type": "code",
   "execution_count": 14,
   "metadata": {},
   "outputs": [
    {
     "name": "stdout",
     "output_type": "stream",
     "text": [
      "[142, 93, 118, 22, 35, 88, 43, 80, 70, 64]\n"
     ]
    }
   ],
   "source": [
    "dados = random.sample(range(150),10)\n",
    "print(dados)"
   ]
  },
  {
   "cell_type": "code",
   "execution_count": 16,
   "metadata": {},
   "outputs": [
    {
     "name": "stdout",
     "output_type": "stream",
     "text": [
      "75.0\n"
     ]
    }
   ],
   "source": [
    "mediana = stat.median(dados)\n",
    "print(mediana)"
   ]
  },
  {
   "cell_type": "code",
   "execution_count": 21,
   "metadata": {},
   "outputs": [
    {
     "name": "stdout",
     "output_type": "stream",
     "text": [
      "75.5\n",
      "\n",
      "\n"
     ]
    },
    {
     "data": {
      "text/plain": [
       "35.259750424527965"
      ]
     },
     "execution_count": 21,
     "metadata": {},
     "output_type": "execute_result"
    }
   ],
   "source": [
    "print(stat.mean(dados))\n",
    "\n",
    "print('\\n')\n",
    "stat.pstdev(dados)"
   ]
  },
  {
   "cell_type": "code",
   "execution_count": 25,
   "metadata": {},
   "outputs": [
    {
     "name": "stdout",
     "output_type": "stream",
     "text": [
      "[27, 64, 125]\n",
      "[216, 343, 512]\n"
     ]
    }
   ],
   "source": [
    "#Cap 4\n",
    "Lex1 , Lex1b = [3,4,5] , [6,7,8]\n",
    "#calcular a potÊNCIA 3 de cada elemento\n",
    "#forma 1 - usando função definida\n",
    "def pot3(x):\n",
    "    return (x**3)\n",
    "print(list(map(pot3,Lex1)))\n",
    "#forma 2 - usando função lambda\n",
    "print(list(map(lambda x: (x**3),Lex1b)))"
   ]
  },
  {
   "cell_type": "code",
   "execution_count": 35,
   "metadata": {},
   "outputs": [
    {
     "name": "stdout",
     "output_type": "stream",
     "text": [
      "['A', 'a', 1]\n",
      "['DATA', 'data', 4]\n",
      "['SCIENCE', 'science', 7]\n",
      "['ACADEMY', 'academy', 7]\n",
      "['OFERCE', 'oferce', 6]\n",
      "['OS', 'os', 2]\n",
      "['MELHORES', 'melhores', 8]\n",
      "['CURSOS', 'cursos', 6]\n",
      "['DE', 'de', 2]\n",
      "['ANÁLISE', 'análise', 7]\n",
      "['DE', 'de', 2]\n",
      "['DADOS', 'dados', 5]\n",
      "['DO', 'do', 2]\n",
      "['BRASIL', 'brasil', 6]\n",
      "['A', 'a', 1]\n",
      "['DATA', 'data', 4]\n",
      "['SCIENCE', 'science', 7]\n",
      "['ACADEMY', 'academy', 7]\n",
      "['OFERCE', 'oferce', 6]\n",
      "['OS', 'os', 2]\n",
      "['MELHORES', 'melhores', 8]\n",
      "['CURSOS', 'cursos', 6]\n",
      "['DE', 'de', 2]\n",
      "['ANÁLISE', 'análise', 7]\n",
      "['DE', 'de', 2]\n",
      "['DADOS', 'dados', 5]\n",
      "['DO', 'do', 2]\n",
      "['BRASIL', 'brasil', 6]\n"
     ]
    }
   ],
   "source": [
    "palavras = 'A Data Science Academy oferce os melhores cursos de análise de dados do Brasil'.split()\n",
    "#original\n",
    "resultado = [[w.upper(), w.lower(), len(w)] for w in palavras]\n",
    "for i in resultado:\n",
    "    print (i)\n",
    "#Editad com map\n",
    "A = list(map(lambda p: [p.upper(), p.lower(), len(p)],palavras))\n",
    "for i in A:\n",
    "    print(i)"
   ]
  },
  {
   "cell_type": "code",
   "execution_count": 50,
   "metadata": {},
   "outputs": [
    {
     "name": "stdout",
     "output_type": "stream",
     "text": [
      "[[1, 3, 5, 7], [2, 4, 6, 8]]\n",
      "[[1, 3, 5, 7], [2, 4, 6, 8]]\n"
     ]
    }
   ],
   "source": [
    "#exer 3 - matriz transposta\n",
    "matrix = [[1, 2],[3,4],[5,6],[7,8]] \n",
    "x ,y = [] , []\n",
    "def MT(M):\n",
    "    for v in M:\n",
    "        x.append(v[0])\n",
    "        y.append(v[1])\n",
    "    return ([x,y])    \n",
    "print(MT(matrix))\n",
    "#Usando list compression\n",
    "transpose = [[row[i] for row in matrix] for i in range(2)]\n",
    "print(transpose)\n",
    "#não precisa criar uma lista vazias, nem função"
   ]
  },
  {
   "cell_type": "code",
   "execution_count": 57,
   "metadata": {},
   "outputs": [
    {
     "name": "stdout",
     "output_type": "stream",
     "text": [
      "[0, 1, 64, 729, 4096]\n"
     ]
    }
   ],
   "source": [
    "#exer 4 - criar duas funções(ao quadrado e ao cubo) e aplique na lista\n",
    "lista = [0, 1, 2, 3, 4]\n",
    "def quadrado(x):\n",
    "    return (x**2)\n",
    "def cubo(y):\n",
    "    return (y**3)\n",
    "\n",
    "final = list(map(cubo,list(map(quadrado,lista))))\n",
    "print(final)"
   ]
  },
  {
   "cell_type": "code",
   "execution_count": 71,
   "metadata": {},
   "outputs": [
    {
     "name": "stdout",
     "output_type": "stream",
     "text": [
      "[1024, 177147, 16777216]\n",
      "1024\n",
      "177147\n",
      "16777216\n"
     ]
    },
    {
     "data": {
      "text/plain": [
       "[1024, 177147, 16777216]"
      ]
     },
     "execution_count": 71,
     "metadata": {},
     "output_type": "execute_result"
    }
   ],
   "source": [
    "#exer 5 - ELeve um elemento da lista pelo da outra lista\n",
    "listaA = [2, 3, 4]\n",
    "listaB = [10, 11, 12]\n",
    "\n",
    "newlist1 = list(map(lambda xA,xB: xA**xB,listaA,listaB )) #Tudo dentro da lista\n",
    "print(newlist1)\n",
    "# ou apresentado um a um\n",
    "newlist2 = [print(i) for i in list(map(lambda xA,xB: xA**xB,listaA,listaB ))]\n",
    "# usando pow pow(x, y, z=None, /)  Equivalent to x**y (with two arguments)\n",
    "list(map(pow,listaA,listaB )) "
   ]
  },
  {
   "cell_type": "code",
   "execution_count": 74,
   "metadata": {
    "scrolled": true
   },
   "outputs": [
    {
     "data": {
      "text/plain": [
       "[-5, -4, -3, -2, -1]"
      ]
     },
     "execution_count": 74,
     "metadata": {},
     "output_type": "execute_result"
    }
   ],
   "source": [
    "#exer 6 - usar filter para retornar os valores negativos\n",
    "range(-5, 5)\n",
    "list(filter(lambda x: x < 0,range(-5, 5)))"
   ]
  },
  {
   "cell_type": "code",
   "execution_count": 78,
   "metadata": {},
   "outputs": [
    {
     "data": {
      "text/plain": [
       "[2, 3, 5, 7]"
      ]
     },
     "execution_count": 78,
     "metadata": {},
     "output_type": "execute_result"
    }
   ],
   "source": [
    "#exer 7 - achar elementos comuns a ambas listas, usando filter\n",
    "a = [1,2,3,5,7,9]\n",
    "b = [2,3,5,6,7,8]\n",
    "list(filter(lambda x: x in a , b))\n"
   ]
  },
  {
   "cell_type": "code",
   "execution_count": 81,
   "metadata": {},
   "outputs": [
    {
     "name": "stdout",
     "output_type": "stream",
     "text": [
      "28/01/2020 01:56\n",
      "28/01/2020 01:56\n"
     ]
    }
   ],
   "source": [
    "#exerc 8 - usar o pacote datetime\n",
    "import datetime\n",
    "print (datetime.datetime.now().strftime(\"%d/%m/%Y %H:%M\"))\n",
    "\n",
    "import time\n",
    "print (time.strftime(\"%d/%m/%Y %H:%M\"))\n"
   ]
  },
  {
   "cell_type": "code",
   "execution_count": 89,
   "metadata": {},
   "outputs": [
    {
     "name": "stdout",
     "output_type": "stream",
     "text": [
      "{'a': 4, 'b': 5}\n",
      "{'a': 4, 'b': 5}\n"
     ]
    }
   ],
   "source": [
    "# Exer 9 - Considere os dois dicionários abaixo. \n",
    "# Crie um terceiro dicionário com as chaves do dicionário 1 e os valores do dicionário 2.\n",
    "dict1 = {'a':1,'b':2}\n",
    "dict2 = {'c':4,'d':5}\n",
    "\n",
    "print(dict(zip(dict1,dict2.values()))) # solução direta, transformando em dicionário as tuplas\n",
    "\n",
    "#Solução com função\n",
    "def trocaValores(d1, d2):\n",
    "    dicTemp = {}\n",
    "    \n",
    "    for d1key, d2val in zip(d1,d2.values()):\n",
    "        dicTemp[d1key] = d2val\n",
    "    \n",
    "    return dicTemp\n",
    "\n",
    "dict3 = trocaValores(dict1, dict2)\n",
    "print(dict3)"
   ]
  },
  {
   "cell_type": "code",
   "execution_count": 100,
   "metadata": {},
   "outputs": [
    {
     "name": "stdout",
     "output_type": "stream",
     "text": [
      "g\n",
      "h\n"
     ]
    }
   ],
   "source": [
    "# Exer 10 - Considere a lista abaixo e retorne apenas os elementos cujo índice for maior que 5.\n",
    "lista = ['a', 'b', 'c', 'd', 'e', 'f', 'g', 'h']\n",
    "\n",
    "for i, v in enumerate(lista):\n",
    "    if i > 5:\n",
    "        print(v)\n",
    "    else:\n",
    "        continue"
   ]
  },
  {
   "cell_type": "code",
   "execution_count": 104,
   "metadata": {},
   "outputs": [
    {
     "name": "stdout",
     "output_type": "stream",
     "text": [
      "3 5\n",
      "None\n",
      "4 8\n"
     ]
    }
   ],
   "source": [
    "#Exercicios do cap 5\n",
    "#Exer 1 - Crie um objeto a partir da classe abaixo, chamado roc1, passando 2 parâmetros e depois faça uma chamada\n",
    "# aos atributos e métodos\n",
    "from math import sqrt\n",
    "\n",
    "class Rocket():\n",
    "     \n",
    "    def __init__(self, x=0, y=0):\n",
    "        self.x = x\n",
    "        self.y = y\n",
    "        \n",
    "    def move_rocket(self, x_increment=0, y_increment=1):\n",
    "        self.x += x_increment\n",
    "        self.y += y_increment\n",
    "        \n",
    "    def print_rocket(self):\n",
    "        print(self.x, self.y)\n",
    "        \n",
    "roc1 = Rocket(3,5)\n",
    "print(roc1.x,roc1.y)\n",
    "trajet_roc1 = roc1.move_rocket(1,3)\n",
    "print(trajet_roc1)\n",
    "pos_roc1 = roc1.print_rocket()"
   ]
  },
  {
   "cell_type": "code",
   "execution_count": 109,
   "metadata": {},
   "outputs": [
    {
     "name": "stdout",
     "output_type": "stream",
     "text": [
      "Individuo cadastrado com sucesso!\n",
      " Noah , mora na cidade Belo Horizonte. Contato via telefone: 22357904 ou por email: noah@gmail.com\n",
      "Individuo cadastrado com sucesso!\n",
      " Fulano , mora na cidade São Paulo. Contato via telefone: 00000000 ou por email: fuh@email.com\n"
     ]
    }
   ],
   "source": [
    "# Exerc 2 - Crie uma classe chamada Pessoa() com os atributos: nome, cidade, telefone e e-mail. Use pelo menos 2\n",
    "# métodos especiais na sua classe. Crie um objeto da sua classe e faça uma chamada a pelo menos um dos seus métodos\n",
    "# especiais.\n",
    "\n",
    "class Pessoa():\n",
    "    ''' Essa classe cria cadastros'''\n",
    "    def __init__(self, nome = 'Fulano', cidade = 'São Paulo', telefone = '00000000', email = 'fuh@email.com'):\n",
    "        self.nome = nome\n",
    "        self.cidade = cidade\n",
    "        self.telefone= telefone\n",
    "        self.email = email\n",
    "        print('Individuo cadastrado com sucesso!')\n",
    "        \n",
    "    def __str__(self):\n",
    "        return ' %s , mora na cidade %s. Contato via telefone: %s ou por email: %s' %(self.nome, self.cidade, self.telefone, self.email)\n",
    "    \n",
    "person = Pessoa('Noah', 'Belo Horizonte','22357904','noah@gmail.com') \n",
    "\n",
    "print(person)\n",
    "\n",
    "person_default = Pessoa()\n",
    "\n",
    "print(person_default)"
   ]
  },
  {
   "cell_type": "code",
   "execution_count": 111,
   "metadata": {},
   "outputs": [],
   "source": [
    "import os\n",
    "import pandas as pd"
   ]
  },
  {
   "cell_type": "code",
   "execution_count": 121,
   "metadata": {},
   "outputs": [],
   "source": [
    "newDF = pd.read_excel('copia.xlsx','Sheet1', index_col=0, na_values=['NA'])"
   ]
  },
  {
   "cell_type": "code",
   "execution_count": 122,
   "metadata": {},
   "outputs": [
    {
     "data": {
      "text/html": [
       "<div>\n",
       "<style scoped>\n",
       "    .dataframe tbody tr th:only-of-type {\n",
       "        vertical-align: middle;\n",
       "    }\n",
       "\n",
       "    .dataframe tbody tr th {\n",
       "        vertical-align: top;\n",
       "    }\n",
       "\n",
       "    .dataframe thead th {\n",
       "        text-align: right;\n",
       "    }\n",
       "</style>\n",
       "<table border=\"1\" class=\"dataframe\">\n",
       "  <thead>\n",
       "    <tr style=\"text-align: right;\">\n",
       "      <th></th>\n",
       "      <th>DADOS PARA CALCULO DO RAIO full</th>\n",
       "      <th>Unnamed: 2</th>\n",
       "      <th>Unnamed: 3</th>\n",
       "      <th>Unnamed: 4</th>\n",
       "      <th>Unnamed: 5</th>\n",
       "      <th>Unnamed: 6</th>\n",
       "      <th>Unnamed: 7</th>\n",
       "      <th>DADOS PARA CALCULO DO RAIO B.K</th>\n",
       "      <th>Unnamed: 9</th>\n",
       "      <th>Unnamed: 10</th>\n",
       "      <th>...</th>\n",
       "      <th>Unnamed: 122</th>\n",
       "      <th>Unnamed: 123</th>\n",
       "      <th>Unnamed: 124</th>\n",
       "      <th>Unnamed: 125</th>\n",
       "      <th>Unnamed: 126</th>\n",
       "      <th>Unnamed: 127</th>\n",
       "      <th>Unnamed: 128</th>\n",
       "      <th>Unnamed: 129</th>\n",
       "      <th>Unnamed: 130</th>\n",
       "      <th>Unnamed: 131</th>\n",
       "    </tr>\n",
       "  </thead>\n",
       "  <tbody>\n",
       "    <tr>\n",
       "      <th>Galaxy</th>\n",
       "      <td>SMA0 = y0</td>\n",
       "      <td>x0</td>\n",
       "      <td>SMA1 = y1</td>\n",
       "      <td>x1</td>\n",
       "      <td>TFLUX_E/2 = X</td>\n",
       "      <td>SMA obs</td>\n",
       "      <td>Rseeing conti r</td>\n",
       "      <td>Galaxy</td>\n",
       "      <td>SMA0 = y0</td>\n",
       "      <td>x0</td>\n",
       "      <td>...</td>\n",
       "      <td>NaN</td>\n",
       "      <td>NaN</td>\n",
       "      <td>NaN</td>\n",
       "      <td>Regression B.K L</td>\n",
       "      <td>NaN</td>\n",
       "      <td>NaN</td>\n",
       "      <td>NaN</td>\n",
       "      <td>NaN</td>\n",
       "      <td>NaN</td>\n",
       "      <td>NaN</td>\n",
       "    </tr>\n",
       "    <tr>\n",
       "      <th>C0840+1044</th>\n",
       "      <td>17.72</td>\n",
       "      <td>112.37</td>\n",
       "      <td>19.49</td>\n",
       "      <td>149.34</td>\n",
       "      <td>114.535</td>\n",
       "      <td>17.8237</td>\n",
       "      <td>6.23</td>\n",
       "      <td>C0840-1044_MC new</td>\n",
       "      <td>7.06</td>\n",
       "      <td>28.842</td>\n",
       "      <td>...</td>\n",
       "      <td>NaN</td>\n",
       "      <td>NaN</td>\n",
       "      <td>NaN</td>\n",
       "      <td>Regression Model</td>\n",
       "      <td>Linear</td>\n",
       "      <td>NaN</td>\n",
       "      <td>NaN</td>\n",
       "      <td>NaN</td>\n",
       "      <td>NaN</td>\n",
       "      <td>NaN</td>\n",
       "    </tr>\n",
       "    <tr>\n",
       "      <th>N-CTS1011</th>\n",
       "      <td>20.89</td>\n",
       "      <td>173.27</td>\n",
       "      <td>22.97</td>\n",
       "      <td>198.83</td>\n",
       "      <td>182.735</td>\n",
       "      <td>21.6602</td>\n",
       "      <td>6.06167</td>\n",
       "      <td>N-CTS1011_MC new</td>\n",
       "      <td>6.38</td>\n",
       "      <td>28.574</td>\n",
       "      <td>...</td>\n",
       "      <td>NaN</td>\n",
       "      <td>NaN</td>\n",
       "      <td>NaN</td>\n",
       "      <td>NaN</td>\n",
       "      <td>NaN</td>\n",
       "      <td>NaN</td>\n",
       "      <td>NaN</td>\n",
       "      <td>NaN</td>\n",
       "      <td>NaN</td>\n",
       "      <td>NaN</td>\n",
       "    </tr>\n",
       "    <tr>\n",
       "      <th>N-CTS1013</th>\n",
       "      <td>10.67</td>\n",
       "      <td>53.902</td>\n",
       "      <td>11.74</td>\n",
       "      <td>60.132</td>\n",
       "      <td>54.71</td>\n",
       "      <td>10.8088</td>\n",
       "      <td>7.2275</td>\n",
       "      <td>N-CTS1013_MC new</td>\n",
       "      <td>7.93</td>\n",
       "      <td>22.65</td>\n",
       "      <td>...</td>\n",
       "      <td>NaN</td>\n",
       "      <td>NaN</td>\n",
       "      <td>NaN</td>\n",
       "      <td>LINEST raw output</td>\n",
       "      <td>NaN</td>\n",
       "      <td>NaN</td>\n",
       "      <td>NaN</td>\n",
       "      <td>NaN</td>\n",
       "      <td>NaN</td>\n",
       "      <td>NaN</td>\n",
       "    </tr>\n",
       "    <tr>\n",
       "      <th>N-CTS1016</th>\n",
       "      <td>6.83</td>\n",
       "      <td>143.42</td>\n",
       "      <td>7.51</td>\n",
       "      <td>159.49</td>\n",
       "      <td>150.025</td>\n",
       "      <td>7.10949</td>\n",
       "      <td>4.053</td>\n",
       "      <td>N-CTS1016_MC new</td>\n",
       "      <td>4.63</td>\n",
       "      <td>70.65</td>\n",
       "      <td>...</td>\n",
       "      <td>NaN</td>\n",
       "      <td>NaN</td>\n",
       "      <td>NaN</td>\n",
       "      <td>2.27634</td>\n",
       "      <td>37.0296</td>\n",
       "      <td>NaN</td>\n",
       "      <td>NaN</td>\n",
       "      <td>NaN</td>\n",
       "      <td>NaN</td>\n",
       "      <td>NaN</td>\n",
       "    </tr>\n",
       "  </tbody>\n",
       "</table>\n",
       "<p>5 rows × 131 columns</p>\n",
       "</div>"
      ],
      "text/plain": [
       "           DADOS PARA CALCULO DO RAIO full Unnamed: 2 Unnamed: 3 Unnamed: 4  \\\n",
       "Galaxy                           SMA0 = y0         x0  SMA1 = y1         x1   \n",
       "C0840+1044                           17.72     112.37      19.49     149.34   \n",
       "N-CTS1011                            20.89     173.27      22.97     198.83   \n",
       "N-CTS1013                            10.67     53.902      11.74     60.132   \n",
       "N-CTS1016                             6.83     143.42       7.51     159.49   \n",
       "\n",
       "               Unnamed: 5 Unnamed: 6       Unnamed: 7  \\\n",
       "Galaxy      TFLUX_E/2 = X    SMA obs  Rseeing conti r   \n",
       "C0840+1044        114.535    17.8237             6.23   \n",
       "N-CTS1011         182.735    21.6602          6.06167   \n",
       "N-CTS1013           54.71    10.8088           7.2275   \n",
       "N-CTS1016         150.025    7.10949            4.053   \n",
       "\n",
       "           DADOS PARA CALCULO DO RAIO B.K Unnamed: 9 Unnamed: 10  ...  \\\n",
       "Galaxy                             Galaxy  SMA0 = y0          x0  ...   \n",
       "C0840+1044              C0840-1044_MC new       7.06      28.842  ...   \n",
       "N-CTS1011                N-CTS1011_MC new       6.38      28.574  ...   \n",
       "N-CTS1013                N-CTS1013_MC new       7.93       22.65  ...   \n",
       "N-CTS1016                N-CTS1016_MC new       4.63       70.65  ...   \n",
       "\n",
       "           Unnamed: 122 Unnamed: 123 Unnamed: 124       Unnamed: 125  \\\n",
       "Galaxy              NaN          NaN          NaN   Regression B.K L   \n",
       "C0840+1044          NaN          NaN          NaN   Regression Model   \n",
       "N-CTS1011           NaN          NaN          NaN                NaN   \n",
       "N-CTS1013           NaN          NaN          NaN  LINEST raw output   \n",
       "N-CTS1016           NaN          NaN          NaN            2.27634   \n",
       "\n",
       "           Unnamed: 126 Unnamed: 127 Unnamed: 128 Unnamed: 129 Unnamed: 130  \\\n",
       "Galaxy              NaN          NaN          NaN          NaN          NaN   \n",
       "C0840+1044       Linear          NaN          NaN          NaN          NaN   \n",
       "N-CTS1011           NaN          NaN          NaN          NaN          NaN   \n",
       "N-CTS1013           NaN          NaN          NaN          NaN          NaN   \n",
       "N-CTS1016       37.0296          NaN          NaN          NaN          NaN   \n",
       "\n",
       "           Unnamed: 131  \n",
       "Galaxy              NaN  \n",
       "C0840+1044          NaN  \n",
       "N-CTS1011           NaN  \n",
       "N-CTS1013           NaN  \n",
       "N-CTS1016           NaN  \n",
       "\n",
       "[5 rows x 131 columns]"
      ]
     },
     "execution_count": 122,
     "metadata": {},
     "output_type": "execute_result"
    }
   ],
   "source": [
    "newDF.head()"
   ]
  },
  {
   "cell_type": "code",
   "execution_count": 123,
   "metadata": {},
   "outputs": [
    {
     "name": "stdout",
     "output_type": "stream",
     "text": [
      "                                DADOS PARA CALCULO DO RAIO full Unnamed: 2  \\\n",
      "Galaxy                                                SMA0 = y0         x0   \n",
      "C0840+1044                                                17.72     112.37   \n",
      "N-CTS1011                                                 20.89     173.27   \n",
      "N-CTS1013                                                 10.67     53.902   \n",
      "N-CTS1016                                                  6.83     143.42   \n",
      "N-CTS1017 $   §                                             5.6     34.345   \n",
      "N-CTS1020                                                 10.53     253.29   \n",
      "N-CTS1022 §                                                5.64     181.31   \n",
      "N-CTS1034  Ha &                                           16.11     177.96   \n",
      "N-CTS1035  &                                              11.75      72.43   \n",
      "N-Fariall30=Mrk 1271 = [F80] 30                           17.72     487.44   \n",
      "N-IIZw40-conti                                            25.94     606.03   \n",
      "N-IIZW70-conti   &                                        16.27     1384.4   \n",
      "N-Mrk1318-conti                                            55.6     2993.5   \n",
      "N-Mrk36-conti  $ $                                        23.16     694.65   \n",
      "N-MS01-conti = [SC98] 01                                    8.9     118.12   \n",
      "N-MS12-conti = [ SC98] 68 $                               13.31     142.74   \n",
      "N-MS13-conti = [SC98] 88                                  10.25      230.2   \n",
      "N-Tol0505-conti                                           15.22     456.43   \n",
      "N-Tol0528-conti  $                                         16.5     317.04   \n",
      "N-Tol0610-conti                                           16.11     510.86   \n",
      "N-Tol0633-conti  &                                        16.04     350.81   \n",
      "N-Tol0645-conti &                                         19.85     292.66   \n",
      "N-Tol0957-conti                                           31.38     2172.7   \n",
      "N-Tol1004-conti Ha                                           47     7273.2   \n",
      "N-Tol1025-conti  &                                        16.11     715.26   \n",
      "N-Tol1147-conti                                           14.64     290.77   \n",
      "N-Tol1223-conti2 – 2stars                                 11.58      138.1   \n",
      "N-Tol1345-conti2 – star                                   15.69      386.5   \n",
      "N-Tol1924-conti – star Ha                                 20.89     2022.9   \n",
      "...                                                         ...        ...   \n",
      "NaN                                                         NaN        NaN   \n",
      "NaN                                                         NaN        NaN   \n",
      "NaN                                                         NaN        NaN   \n",
      "NaN                                                         NaN        NaN   \n",
      "NaN                                                         NaN        NaN   \n",
      "NaN                                                         NaN        NaN   \n",
      "NaN                                                         NaN        NaN   \n",
      "NaN                                                         NaN        NaN   \n",
      "NaN                                                         NaN        NaN   \n",
      "NaN                                                         NaN        NaN   \n",
      "NaN                                                         NaN        NaN   \n",
      "NaN                                                         NaN        NaN   \n",
      "NaN                                                         NaN        NaN   \n",
      "NaN                                                         NaN        NaN   \n",
      "NaN                                                         NaN        NaN   \n",
      "NaN                                                         NaN        NaN   \n",
      "NaN                                                         NaN        NaN   \n",
      "NaN                                                         NaN        NaN   \n",
      "NaN                                                         NaN        NaN   \n",
      "NaN                                                         NaN        NaN   \n",
      "NaN                                                         NaN        NaN   \n",
      "NaN                                                         NaN        NaN   \n",
      "NaN                                                         NaN        NaN   \n",
      "NaN                                                         NaN        NaN   \n",
      "NaN                                                         NaN        NaN   \n",
      "NaN                                                         NaN        NaN   \n",
      "NaN                                                         NaN        NaN   \n",
      "NaN                                                         NaN        NaN   \n",
      "NaN                                                         NaN        NaN   \n",
      "NaN                                                         NaN        NaN   \n",
      "\n",
      "                                Unnamed: 3 Unnamed: 4     Unnamed: 5  \\\n",
      "Galaxy                           SMA1 = y1         x1  TFLUX_E/2 = X   \n",
      "C0840+1044                           19.49     149.34        114.535   \n",
      "N-CTS1011                            22.97     198.83        182.735   \n",
      "N-CTS1013                            11.74     60.132          54.71   \n",
      "N-CTS1016                             7.51     159.49        150.025   \n",
      "N-CTS1017 $   §                       6.16     37.593         36.245   \n",
      "N-CTS1020                            11.58     276.63        266.815   \n",
      "N-CTS1022 §                           6.21     191.63         181.98   \n",
      "N-CTS1034  Ha &                      17.72     199.34         189.16   \n",
      "N-CTS1035  &                         12.69     79.387         75.165   \n",
      "N-Fariall30=Mrk 1271 = [F80] 30      19.49     524.97        489.955   \n",
      "N-IIZw40-conti                       28.53     640.91          629.6   \n",
      "N-IIZW70-conti   &                   17.89     1531.3        1473.85   \n",
      "N-Mrk1318-conti                      61.16     3213.3           3031   \n",
      "N-Mrk36-conti  $ $                   25.48     762.01         713.65   \n",
      "N-MS01-conti = [SC98] 01              9.43        124         123.78   \n",
      "N-MS12-conti = [ SC98] 68 $          14.64     161.94        152.725   \n",
      "N-MS13-conti = [SC98] 88             11.27     254.86         235.72   \n",
      "N-Tol0505-conti                      16.14      490.2         476.55   \n",
      "N-Tol0528-conti  $                   18.15     350.79         322.67   \n",
      "N-Tol0610-conti                      17.72     558.34         539.45   \n",
      "N-Tol0633-conti  &                      17     372.78         360.79   \n",
      "N-Tol0645-conti &                    21.64      319.5         318.35   \n",
      "N-Tol0957-conti                      34.52     2453.4           2442   \n",
      "N-Tol1004-conti Ha                   51.23     8116.5           7512   \n",
      "N-Tol1025-conti  &                   17.72     802.33            797   \n",
      "N-Tol1147-conti                      16.11     330.27        328.125   \n",
      "N-Tol1223-conti2 – 2stars            12.63     150.69        149.325   \n",
      "N-Tol1345-conti2 – star              17.26     429.05        417.625   \n",
      "N-Tol1924-conti – star Ha            22.97     2216.9           2066   \n",
      "...                                    ...        ...            ...   \n",
      "NaN                                    NaN        NaN            NaN   \n",
      "NaN                                    NaN        NaN            NaN   \n",
      "NaN                                    NaN        NaN            NaN   \n",
      "NaN                                    NaN        NaN            NaN   \n",
      "NaN                                    NaN        NaN            NaN   \n",
      "NaN                                    NaN        NaN            NaN   \n",
      "NaN                                    NaN        NaN            NaN   \n",
      "NaN                                    NaN        NaN            NaN   \n",
      "NaN                                    NaN        NaN            NaN   \n",
      "NaN                                    NaN        NaN            NaN   \n",
      "NaN                                    NaN        NaN            NaN   \n",
      "NaN                                    NaN        NaN            NaN   \n",
      "NaN                                    NaN        NaN            NaN   \n",
      "NaN                                    NaN        NaN            NaN   \n",
      "NaN                                    NaN        NaN            NaN   \n",
      "NaN                                    NaN        NaN            NaN   \n",
      "NaN                                    NaN        NaN            NaN   \n",
      "NaN                                    NaN        NaN            NaN   \n",
      "NaN                                    NaN        NaN            NaN   \n",
      "NaN                                    NaN        NaN            NaN   \n",
      "NaN                                    NaN        NaN            NaN   \n",
      "NaN                                    NaN        NaN            NaN   \n",
      "NaN                                    NaN        NaN            NaN   \n",
      "NaN                                    NaN        NaN            NaN   \n",
      "NaN                                    NaN        NaN            NaN   \n",
      "NaN                                    NaN        NaN            NaN   \n",
      "NaN                                    NaN        NaN            NaN   \n",
      "NaN                                    NaN        NaN            NaN   \n",
      "NaN                                    NaN        NaN            NaN   \n",
      "NaN                                    NaN        NaN            NaN   \n",
      "\n",
      "                                Unnamed: 6       Unnamed: 7  \\\n",
      "Galaxy                             SMA obs  Rseeing conti r   \n",
      "C0840+1044                         17.8237             6.23   \n",
      "N-CTS1011                          21.6602          6.06167   \n",
      "N-CTS1013                          10.8088           7.2275   \n",
      "N-CTS1016                          7.10949            4.053   \n",
      "N-CTS1017 $   §                    5.92759           4.8525   \n",
      "N-CTS1020                          11.1385             4.65   \n",
      "N-CTS1022 §                        5.67701          4.53167   \n",
      "N-CTS1034  Ha &                    16.9534             9.53   \n",
      "N-CTS1035  &                       12.1195          7.66833   \n",
      "N-Fariall30=Mrk 1271 = [F80] 30    17.8386             5.77   \n",
      "N-IIZw40-conti                     27.6902             6.82   \n",
      "N-IIZW70-conti   &                 17.2564            9.412   \n",
      "N-Mrk1318-conti                    56.5486           4.4975   \n",
      "N-Mrk36-conti  $ $                 23.8144                7   \n",
      "N-MS01-conti = [SC98] 01           9.41017          5.76125   \n",
      "N-MS12-conti = [ SC98] 68 $        14.0017           5.9275   \n",
      "N-MS13-conti = [SC98] 88           10.4783            6.035   \n",
      "N-Tol0505-conti                    15.7681            6.345   \n",
      "N-Tol0528-conti  $                 16.7752             5.48   \n",
      "N-Tol0610-conti                    17.0795            6.714   \n",
      "N-Tol0633-conti  &                 16.4761          9.27222   \n",
      "N-Tol0645-conti &                  21.5633           9.5375   \n",
      "N-Tol0957-conti                    34.3925          5.53778   \n",
      "N-Tol1004-conti Ha                 48.1978            4.712   \n",
      "N-Tol1025-conti  &                 17.6214            9.259   \n",
      "N-Tol1147-conti                    16.0302          6.91125   \n",
      "N-Tol1223-conti2 – 2stars          12.5162            3.667   \n",
      "N-Tol1345-conti2 – star            16.8384          4.72364   \n",
      "N-Tol1924-conti – star Ha          21.3521          5.49583   \n",
      "...                                    ...              ...   \n",
      "NaN                                    NaN              NaN   \n",
      "NaN                                    NaN              NaN   \n",
      "NaN                                    NaN              NaN   \n",
      "NaN                                    NaN              NaN   \n",
      "NaN                                    NaN              NaN   \n",
      "NaN                                    NaN              NaN   \n",
      "NaN                                    NaN              NaN   \n",
      "NaN                                    NaN              NaN   \n",
      "NaN                                    NaN              NaN   \n",
      "NaN                                    NaN              NaN   \n",
      "NaN                                    NaN              NaN   \n",
      "NaN                                    NaN              NaN   \n",
      "NaN                                    NaN              NaN   \n",
      "NaN                                    NaN              NaN   \n",
      "NaN                                    NaN              NaN   \n",
      "NaN                                    NaN              NaN   \n",
      "NaN                                    NaN              NaN   \n",
      "NaN                                    NaN              NaN   \n",
      "NaN                                    NaN              NaN   \n",
      "NaN                                    NaN              NaN   \n",
      "NaN                                    NaN              NaN   \n",
      "NaN                                    NaN              NaN   \n",
      "NaN                                    NaN              NaN   \n",
      "NaN                                    NaN              NaN   \n",
      "NaN                                    NaN              NaN   \n",
      "NaN                                    NaN              NaN   \n",
      "NaN                                    NaN              NaN   \n",
      "NaN                                    NaN              NaN   \n",
      "NaN                                    NaN              NaN   \n",
      "NaN                                    NaN              NaN   \n",
      "\n",
      "                                DADOS PARA CALCULO DO RAIO B.K Unnamed: 9  \\\n",
      "Galaxy                                                  Galaxy  SMA0 = y0   \n",
      "C0840+1044                                   C0840-1044_MC new       7.06   \n",
      "N-CTS1011                                     N-CTS1011_MC new       6.38   \n",
      "N-CTS1013                                     N-CTS1013_MC new       7.93   \n",
      "N-CTS1016                                     N-CTS1016_MC new       4.63   \n",
      "N-CTS1017 $   §                                     N-CTS1017         5.5   \n",
      "N-CTS1020                                     N-CTS1020_MC new       6.39   \n",
      "N-CTS1022 §                                          N-CTS1022       4.63   \n",
      "N-CTS1034  Ha &                               N-CTS1034_MC new       9.74   \n",
      "N-CTS1035  &                                  N-CTS1035_MC new       7.97   \n",
      "N-Fariall30=Mrk 1271 = [F80] 30             N-Fariall30_MC new       6.05   \n",
      "N-IIZw40-conti                           N-IIZw40-conti_MC new       7.35   \n",
      "N-IIZW70-conti   &                       N-IIZW70-conti_MC new       9.96   \n",
      "N-Mrk1318-conti                         N-Mrk1318-conti_MC new          5   \n",
      "N-Mrk36-conti  $ $                        N-Mrk36-conti_MC new       7.47   \n",
      "N-MS01-conti = [SC98] 01                   N-MS01-conti_MC new       5.96   \n",
      "N-MS12-conti = [ SC98] 68 $                N-MS12-conti_MC new       6.25   \n",
      "N-MS13-conti = [SC98] 88                   N-MS13-conti_MC new       6.05   \n",
      "N-Tol0505-conti                         N-Tol0505-conti_MC new        6.3   \n",
      "N-Tol0528-conti  $                      N-Tol0528-conti_MC new       5.72   \n",
      "N-Tol0610-conti                         N-Tol0610-conti_MC new       7.01   \n",
      "N-Tol0633-conti  &                      N-Tol0633-conti_MC new         10   \n",
      "N-Tol0645-conti &                       N-Tol0645-conti_MC new       9.96   \n",
      "N-Tol0957-conti                         N-Tol0957-conti_MC new      10.51   \n",
      "N-Tol1004-conti Ha                      N-Tol1004-conti_MC new       6.05   \n",
      "N-Tol1025-conti  &                      N-Tol1025-conti_MC new       9.25   \n",
      "N-Tol1147-conti                         N-Tol1147-conti_MC new       7.06   \n",
      "N-Tol1223-conti2 – 2stars               N-Tol1223-conti_MC new       3.86   \n",
      "N-Tol1345-conti2 – star                 N-Tol1345-conti_MC new          5   \n",
      "N-Tol1924-conti – star Ha               N-Tol1924-conti_MC new       6.66   \n",
      "...                                                        ...        ...   \n",
      "NaN                                                        NaN        NaN   \n",
      "NaN                                                        NaN        NaN   \n",
      "NaN                                                        NaN        NaN   \n",
      "NaN                                                        NaN        NaN   \n",
      "NaN                                                        NaN        NaN   \n",
      "NaN                                                        NaN        NaN   \n",
      "NaN                                                        NaN        NaN   \n",
      "NaN                                                        NaN        NaN   \n",
      "NaN                                                        NaN        NaN   \n",
      "NaN                                                        NaN        NaN   \n",
      "NaN                                                        NaN        NaN   \n",
      "NaN                                                        NaN        NaN   \n",
      "NaN                                                        NaN        NaN   \n",
      "NaN                                                        NaN        NaN   \n",
      "NaN                                                        NaN        NaN   \n",
      "NaN                                                        NaN        NaN   \n",
      "NaN                                                        NaN        NaN   \n",
      "NaN                                                        NaN        NaN   \n",
      "NaN                                                        NaN        NaN   \n",
      "NaN                                                        NaN        NaN   \n",
      "NaN                                                        NaN        NaN   \n",
      "NaN                                                        NaN        NaN   \n",
      "NaN                                                        NaN        NaN   \n",
      "NaN                                                        NaN        NaN   \n",
      "NaN                                                        NaN        NaN   \n",
      "NaN                                                        NaN        NaN   \n",
      "NaN                                                        NaN        NaN   \n",
      "NaN                                                        NaN        NaN   \n",
      "NaN                                                        NaN        NaN   \n",
      "NaN                                                        NaN        NaN   \n",
      "\n",
      "                                Unnamed: 10  ... Unnamed: 122    Unnamed: 123  \\\n",
      "Galaxy                                   x0  ...          NaN             NaN   \n",
      "C0840+1044                           28.842  ...          NaN             NaN   \n",
      "N-CTS1011                            28.574  ...          NaN             NaN   \n",
      "N-CTS1013                             22.65  ...          NaN             NaN   \n",
      "N-CTS1016                             70.65  ...          NaN             NaN   \n",
      "N-CTS1017 $   §                      29.511  ...          NaN             NaN   \n",
      "N-CTS1020                            88.088  ...          NaN             NaN   \n",
      "N-CTS1022 §                          87.477  ...          NaN             NaN   \n",
      "N-CTS1034  Ha &                      41.266  ...          NaN             NaN   \n",
      "N-CTS1035  &                         24.906  ...          NaN             NaN   \n",
      "N-Fariall30=Mrk 1271 = [F80] 30      109.98  ...          NaN             NaN   \n",
      "N-IIZw40-conti                       111.85  ...          NaN             NaN   \n",
      "N-IIZW70-conti   &                   502.18  ...          NaN             NaN   \n",
      "N-Mrk1318-conti                      48.763  ...          NaN             NaN   \n",
      "N-Mrk36-conti  $ $                   103.59  ...          NaN             NaN   \n",
      "N-MS01-conti = [SC98] 01             38.877  ...          NaN             NaN   \n",
      "N-MS12-conti = [ SC98] 68 $          38.894  ...          NaN             NaN   \n",
      "N-MS13-conti = [SC98] 88             68.897  ...          NaN             NaN   \n",
      "N-Tol0505-conti                       76.11  ...            F  Significance F   \n",
      "N-Tol0528-conti  $                   44.955  ...      11.0896      0.00495627   \n",
      "N-Tol0610-conti                      83.705  ...          NaN             NaN   \n",
      "N-Tol0633-conti  &                   112.36  ...          NaN             NaN   \n",
      "N-Tol0645-conti &                    70.012  ...          NaN             NaN   \n",
      "N-Tol0957-conti                      297.63  ...          NaN             NaN   \n",
      "N-Tol1004-conti Ha                   576.33  ...          NaN             NaN   \n",
      "N-Tol1025-conti  &                   191.18  ...      P-value       Lower 95%   \n",
      "N-Tol1147-conti                      60.958  ...  4.38784e-17         36.2507   \n",
      "N-Tol1223-conti2 – 2stars            21.241  ...  4.38784e-17         36.2507   \n",
      "N-Tol1345-conti2 – star              64.979  ...          NaN             NaN   \n",
      "N-Tol1924-conti – star Ha            467.69  ...          NaN             NaN   \n",
      "...                                     ...  ...          ...             ...   \n",
      "NaN                                     NaN  ...          NaN             NaN   \n",
      "NaN                                     NaN  ...          NaN             NaN   \n",
      "NaN                                     NaN  ...          NaN             NaN   \n",
      "NaN                                     NaN  ...          NaN             NaN   \n",
      "NaN                                     NaN  ...          NaN             NaN   \n",
      "NaN                                     NaN  ...          NaN             NaN   \n",
      "NaN                                     NaN  ...          NaN             NaN   \n",
      "NaN                                     NaN  ...          NaN             NaN   \n",
      "NaN                                     NaN  ...          NaN             NaN   \n",
      "NaN                                     NaN  ...          NaN             NaN   \n",
      "NaN                                     NaN  ...          NaN             NaN   \n",
      "NaN                                     NaN  ...          NaN             NaN   \n",
      "NaN                                     NaN  ...          NaN             NaN   \n",
      "NaN                                     NaN  ...          NaN             NaN   \n",
      "NaN                                     NaN  ...          NaN             NaN   \n",
      "NaN                                     NaN  ...          NaN             NaN   \n",
      "NaN                                     NaN  ...          NaN             NaN   \n",
      "NaN                                     NaN  ...          NaN             NaN   \n",
      "NaN                                     NaN  ...          NaN             NaN   \n",
      "NaN                                     NaN  ...          NaN             NaN   \n",
      "NaN                                     NaN  ...          NaN             NaN   \n",
      "NaN                                     NaN  ...          NaN             NaN   \n",
      "NaN                                     NaN  ...          NaN             NaN   \n",
      "NaN                                     NaN  ...          NaN             NaN   \n",
      "NaN                                     NaN  ...          NaN             NaN   \n",
      "NaN                                     NaN  ...          NaN             NaN   \n",
      "NaN                                     NaN  ...          NaN             NaN   \n",
      "NaN                                     NaN  ...          NaN             NaN   \n",
      "NaN                                     NaN  ...          NaN             NaN   \n",
      "NaN                                     NaN  ...          NaN             NaN   \n",
      "\n",
      "                                Unnamed: 124                  Unnamed: 125  \\\n",
      "Galaxy                                   NaN              Regression B.K L   \n",
      "C0840+1044                               NaN              Regression Model   \n",
      "N-CTS1011                                NaN                           NaN   \n",
      "N-CTS1013                                NaN             LINEST raw output   \n",
      "N-CTS1016                                NaN                       2.27634   \n",
      "N-CTS1017 $   §                          NaN                      0.650618   \n",
      "N-CTS1020                                NaN                      0.466488   \n",
      "N-CTS1022 §                              NaN                       12.2412   \n",
      "N-CTS1034  Ha &                          NaN                       1.30835   \n",
      "N-CTS1035  &                             NaN                           NaN   \n",
      "N-Fariall30=Mrk 1271 = [F80] 30          NaN         Regression Statistics   \n",
      "N-IIZw40-conti                           NaN                           R^2   \n",
      "N-IIZW70-conti   &                       NaN                Standard Error   \n",
      "N-Mrk1318-conti                          NaN          Count of X variables   \n",
      "N-Mrk36-conti  $ $                       NaN                  Observations   \n",
      "N-MS01-conti = [SC98] 01                 NaN                  Adjusted R^2   \n",
      "N-MS12-conti = [ SC98] 68 $              NaN                           NaN   \n",
      "N-MS13-conti = [SC98] 88                 NaN  Analysis of Variance (ANOVA)   \n",
      "N-Tol0505-conti                          NaN                           NaN   \n",
      "N-Tol0528-conti  $                       NaN                    Regression   \n",
      "N-Tol0610-conti                          NaN                      Residual   \n",
      "N-Tol0633-conti  &                       NaN                         Total   \n",
      "N-Tol0645-conti &                        NaN                           NaN   \n",
      "N-Tol0957-conti                          NaN              Confidence level   \n",
      "N-Tol1004-conti Ha                       NaN                           NaN   \n",
      "N-Tol1025-conti  &                 Upper 95%                           NaN   \n",
      "N-Tol1147-conti                      39.5566                     Intercept   \n",
      "N-Tol1223-conti2 – 2stars            39.5566                  Log(σH) 2011   \n",
      "N-Tol1345-conti2 – star                  NaN                           NaN   \n",
      "N-Tol1924-conti – star Ha                NaN                  Log(σH) 2011   \n",
      "...                                      ...                           ...   \n",
      "NaN                                      NaN                           NaN   \n",
      "NaN                                      NaN                           NaN   \n",
      "NaN                                      NaN                           NaN   \n",
      "NaN                                      NaN                           NaN   \n",
      "NaN                                      NaN                           NaN   \n",
      "NaN                                      NaN                           NaN   \n",
      "NaN                                      NaN                           NaN   \n",
      "NaN                                      NaN                           NaN   \n",
      "NaN                                      NaN                           NaN   \n",
      "NaN                                      NaN                           NaN   \n",
      "NaN                                      NaN                           NaN   \n",
      "NaN                                      NaN                           NaN   \n",
      "NaN                                      NaN                           NaN   \n",
      "NaN                                      NaN                           NaN   \n",
      "NaN                                      NaN                           NaN   \n",
      "NaN                                      NaN                           NaN   \n",
      "NaN                                      NaN                           NaN   \n",
      "NaN                                      NaN                           NaN   \n",
      "NaN                                      NaN                           NaN   \n",
      "NaN                                      NaN                           NaN   \n",
      "NaN                                      NaN                           NaN   \n",
      "NaN                                      NaN                           NaN   \n",
      "NaN                                      NaN                           NaN   \n",
      "NaN                                      NaN                           NaN   \n",
      "NaN                                      NaN                           NaN   \n",
      "NaN                                      NaN                           NaN   \n",
      "NaN                                      NaN                           NaN   \n",
      "NaN                                      NaN                           NaN   \n",
      "NaN                                      NaN                           NaN   \n",
      "NaN                                      NaN                           NaN   \n",
      "\n",
      "                                 Unnamed: 126      Unnamed: 127 Unnamed: 128  \\\n",
      "Galaxy                                    NaN               NaN          NaN   \n",
      "C0840+1044                             Linear               NaN          NaN   \n",
      "N-CTS1011                                 NaN               NaN          NaN   \n",
      "N-CTS1013                                 NaN               NaN          NaN   \n",
      "N-CTS1016                             37.0296               NaN          NaN   \n",
      "N-CTS1017 $   §                      0.909302               NaN          NaN   \n",
      "N-CTS1020                            0.326926               NaN          NaN   \n",
      "N-CTS1022 §                                14               NaN          NaN   \n",
      "N-CTS1034  Ha &                       1.49633               NaN          NaN   \n",
      "N-CTS1035  &                              NaN               NaN          NaN   \n",
      "N-Fariall30=Mrk 1271 = [F80] 30           NaN               NaN          NaN   \n",
      "N-IIZw40-conti                       0.466488               NaN          NaN   \n",
      "N-IIZW70-conti   &                   0.326926               NaN          NaN   \n",
      "N-Mrk1318-conti                             1               NaN          NaN   \n",
      "N-Mrk36-conti  $ $                         16               NaN          NaN   \n",
      "N-MS01-conti = [SC98] 01              0.42838               NaN          NaN   \n",
      "N-MS12-conti = [ SC98] 68 $               NaN               NaN          NaN   \n",
      "N-MS13-conti = [SC98] 88                  NaN               NaN          NaN   \n",
      "N-Tol0505-conti                            df                SS           MS   \n",
      "N-Tol0528-conti  $                          1           1.30835      1.30835   \n",
      "N-Tol0610-conti                            14           1.49633     0.106881   \n",
      "N-Tol0633-conti  &                         15           2.80468          NaN   \n",
      "N-Tol0645-conti &                         NaN               NaN          NaN   \n",
      "N-Tol0957-conti                          0.95               NaN          NaN   \n",
      "N-Tol1004-conti Ha                        NaN               NaN          NaN   \n",
      "N-Tol1025-conti  &               Coefficients    Standard Error  t-Statistic   \n",
      "N-Tol1147-conti                       37.0296          0.909302      40.7231   \n",
      "N-Tol1223-conti2 – 2stars             37.0296          0.909302      40.7231   \n",
      "N-Tol1345-conti2 – star                   NaN               NaN          NaN   \n",
      "N-Tol1924-conti – star Ha         Predicted Y  BK Log(LHβ) 2007     Residual   \n",
      "...                                       ...               ...          ...   \n",
      "NaN                                       NaN               NaN          NaN   \n",
      "NaN                                       NaN               NaN          NaN   \n",
      "NaN                                       NaN               NaN          NaN   \n",
      "NaN                                       NaN               NaN          NaN   \n",
      "NaN                                       NaN               NaN          NaN   \n",
      "NaN                                       NaN               NaN          NaN   \n",
      "NaN                                       NaN               NaN          NaN   \n",
      "NaN                                       NaN               NaN          NaN   \n",
      "NaN                                       NaN               NaN          NaN   \n",
      "NaN                                       NaN               NaN          NaN   \n",
      "NaN                                       NaN               NaN          NaN   \n",
      "NaN                                       NaN               NaN          NaN   \n",
      "NaN                                       NaN               NaN          NaN   \n",
      "NaN                                       NaN               NaN          NaN   \n",
      "NaN                                       NaN               NaN          NaN   \n",
      "NaN                                       NaN               NaN          NaN   \n",
      "NaN                                       NaN               NaN          NaN   \n",
      "NaN                                       NaN               NaN          NaN   \n",
      "NaN                                       NaN               NaN          NaN   \n",
      "NaN                                       NaN               NaN          NaN   \n",
      "NaN                                       NaN               NaN          NaN   \n",
      "NaN                                       NaN               NaN          NaN   \n",
      "NaN                                       NaN               NaN          NaN   \n",
      "NaN                                       NaN               NaN          NaN   \n",
      "NaN                                       NaN               NaN          NaN   \n",
      "NaN                                       NaN               NaN          NaN   \n",
      "NaN                                       NaN               NaN          NaN   \n",
      "NaN                                       NaN               NaN          NaN   \n",
      "NaN                                       NaN               NaN          NaN   \n",
      "NaN                                       NaN               NaN          NaN   \n",
      "\n",
      "                                Unnamed: 129    Unnamed: 130 Unnamed: 131  \n",
      "Galaxy                                   NaN             NaN          NaN  \n",
      "C0840+1044                               NaN             NaN          NaN  \n",
      "N-CTS1011                                NaN             NaN          NaN  \n",
      "N-CTS1013                                NaN             NaN          NaN  \n",
      "N-CTS1016                                NaN             NaN          NaN  \n",
      "N-CTS1017 $   §                          NaN             NaN          NaN  \n",
      "N-CTS1020                                NaN             NaN          NaN  \n",
      "N-CTS1022 §                              NaN             NaN          NaN  \n",
      "N-CTS1034  Ha &                          NaN             NaN          NaN  \n",
      "N-CTS1035  &                             NaN             NaN          NaN  \n",
      "N-Fariall30=Mrk 1271 = [F80] 30          NaN             NaN          NaN  \n",
      "N-IIZw40-conti                           NaN             NaN          NaN  \n",
      "N-IIZW70-conti   &                       NaN             NaN          NaN  \n",
      "N-Mrk1318-conti                          NaN             NaN          NaN  \n",
      "N-Mrk36-conti  $ $                       NaN             NaN          NaN  \n",
      "N-MS01-conti = [SC98] 01                 NaN             NaN          NaN  \n",
      "N-MS12-conti = [ SC98] 68 $              NaN             NaN          NaN  \n",
      "N-MS13-conti = [SC98] 88                 NaN             NaN          NaN  \n",
      "N-Tol0505-conti                            F  Significance F          NaN  \n",
      "N-Tol0528-conti  $                   12.2412      0.00354406          NaN  \n",
      "N-Tol0610-conti                          NaN             NaN          NaN  \n",
      "N-Tol0633-conti  &                       NaN             NaN          NaN  \n",
      "N-Tol0645-conti &                        NaN             NaN          NaN  \n",
      "N-Tol0957-conti                          NaN             NaN          NaN  \n",
      "N-Tol1004-conti Ha                       NaN             NaN          NaN  \n",
      "N-Tol1025-conti  &                   P-value       Lower 95%    Upper 95%  \n",
      "N-Tol1147-conti                  6.05741e-16         35.0794      38.9799  \n",
      "N-Tol1223-conti2 – 2stars        6.05741e-16         35.0794      38.9799  \n",
      "N-Tol1345-conti2 – star                  NaN             NaN          NaN  \n",
      "N-Tol1924-conti – star Ha                NaN             NaN          NaN  \n",
      "...                                      ...             ...          ...  \n",
      "NaN                                      NaN             NaN          NaN  \n",
      "NaN                                      NaN             NaN          NaN  \n",
      "NaN                                      NaN             NaN          NaN  \n",
      "NaN                                      NaN             NaN          NaN  \n",
      "NaN                                      NaN             NaN          NaN  \n",
      "NaN                                      NaN             NaN          NaN  \n",
      "NaN                                      NaN             NaN          NaN  \n",
      "NaN                                      NaN             NaN          NaN  \n",
      "NaN                                      NaN             NaN          NaN  \n",
      "NaN                                      NaN             NaN          NaN  \n",
      "NaN                                      NaN             NaN          NaN  \n",
      "NaN                                      NaN             NaN          NaN  \n",
      "NaN                                      NaN             NaN          NaN  \n",
      "NaN                                      NaN             NaN          NaN  \n",
      "NaN                                      NaN             NaN          NaN  \n",
      "NaN                                      NaN             NaN          NaN  \n",
      "NaN                                      NaN             NaN          NaN  \n",
      "NaN                                      NaN             NaN          NaN  \n",
      "NaN                                      NaN             NaN          NaN  \n",
      "NaN                                      NaN             NaN          NaN  \n",
      "NaN                                      NaN             NaN          NaN  \n",
      "NaN                                      NaN             NaN          NaN  \n",
      "NaN                                      NaN             NaN          NaN  \n",
      "NaN                                      NaN             NaN          NaN  \n",
      "NaN                                      NaN             NaN          NaN  \n",
      "NaN                                      NaN             NaN          NaN  \n",
      "NaN                                      NaN             NaN          NaN  \n",
      "NaN                                      NaN             NaN          NaN  \n",
      "NaN                                      NaN             NaN          NaN  \n",
      "NaN                                      NaN             NaN          NaN  \n",
      "\n",
      "[990 rows x 131 columns]\n"
     ]
    }
   ],
   "source": [
    "print(newDF)"
   ]
  },
  {
   "cell_type": "code",
   "execution_count": null,
   "metadata": {},
   "outputs": [],
   "source": [
    "plt.scatter(y=dados['y'], x=dados['x1'], color='blue', s=50, alpha=.5)\n",
    "X_plot = sp.linspace(min(dados['x1']), max(dados['x1']), len(dados['x1']))\n",
    "plt.plot(X_plot, X_plot*reg.params[1] + reg.params[0], color='r')\n",
    "plt.ylim(-11,16)\n",
    "plt.xlim(-2.5,3)\n",
    "plt.title('Reta de regressão')\n",
    "plt.ylabel('$y$ - Variável Dependente')\n",
    "plt.xlabel('$x1$ - Preditor')\n",
    "plt.show()"
   ]
  }
 ],
 "metadata": {
  "kernelspec": {
   "display_name": "Python 3",
   "language": "python",
   "name": "python3"
  },
  "language_info": {
   "codemirror_mode": {
    "name": "ipython",
    "version": 3
   },
   "file_extension": ".py",
   "mimetype": "text/x-python",
   "name": "python",
   "nbconvert_exporter": "python",
   "pygments_lexer": "ipython3",
   "version": "3.7.3"
  }
 },
 "nbformat": 4,
 "nbformat_minor": 2
}
